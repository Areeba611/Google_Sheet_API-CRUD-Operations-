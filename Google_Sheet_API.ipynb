{
 "cells": [
  {
   "cell_type": "markdown",
   "id": "c3026443-852e-44ea-8b1e-31ad699390b5",
   "metadata": {},
   "source": [
    "# Google Sheets API with Python Requests (CRUD Operations)\n",
    "1. GET – Read and display all data from the sheet.\n",
    "2. POST – Append a new row of data to the sheet.\n",
    "3. PUT – Update an existing row's data in the sheet.\n",
    "4. DELETE – Delete a specific row from the sheet."
   ]
  },
  {
   "cell_type": "code",
   "execution_count": 153,
   "id": "364fe09f-0245-4040-93dc-9a994bd13bbb",
   "metadata": {},
   "outputs": [
    {
     "name": "stdout",
     "output_type": "stream",
     "text": [
      "GET:\n",
      " {'range': 'Sheet1!A1:Z100', 'majorDimension': 'ROWS'}\n",
      "POST:\n",
      " {'spreadsheetId': '14BQoOku8ILK0ydrXJ54Y_SvUgFF0KPOEz8PLz-Wsr2s', 'updates': {'spreadsheetId': '14BQoOku8ILK0ydrXJ54Y_SvUgFF0KPOEz8PLz-Wsr2s', 'updatedRange': 'Sheet1!A1:B3', 'updatedRows': 3, 'updatedColumns': 2, 'updatedCells': 6}}\n",
      "PUT:\n",
      " {'spreadsheetId': '14BQoOku8ILK0ydrXJ54Y_SvUgFF0KPOEz8PLz-Wsr2s', 'updatedRange': 'Sheet1!A2:B2', 'updatedRows': 1, 'updatedColumns': 2, 'updatedCells': 2}\n",
      "CLEAR CELL:\n",
      " {'spreadsheetId': '14BQoOku8ILK0ydrXJ54Y_SvUgFF0KPOEz8PLz-Wsr2s', 'clearedRange': 'Sheet1!A2'}\n"
     ]
    }
   ],
   "source": [
    "import requests\n",
    "from google.oauth2 import service_account\n",
    "from google.auth.transport.requests import Request\n",
    "\n",
    "# ---- SETUP ----\n",
    "SCOPES = ['https://www.googleapis.com/auth/spreadsheets']\n",
    "SERVICE_ACCOUNT_FILE = \"My Project.json\"\n",
    "\n",
    "credentials = service_account.Credentials.from_service_account_file(\n",
    "    SERVICE_ACCOUNT_FILE, scopes=SCOPES\n",
    ")\n",
    "credentials.refresh(Request())\n",
    "access_token = credentials.token\n",
    "\n",
    "SHEET_ID = '14BQoOku8ILK0ydrXJ54Y_SvUgFF0KPOEz8PLz-Wsr2s'\n",
    "headers = {\n",
    "    \"Authorization\": f\"Bearer {access_token}\",\n",
    "    \"Content-Type\": \"application/json\"\n",
    "}\n",
    "\n",
    "# ---- GET ----\n",
    "def get_data():\n",
    "    url = f\"https://sheets.googleapis.com/v4/spreadsheets/{SHEET_ID}/values/Sheet1!A1:Z100\"\n",
    "    res = requests.get(url, headers=headers)\n",
    "    print(\"GET:\\n\", res.json())\n",
    "\n",
    "# ---- POST ----\n",
    "def post_data():\n",
    "    url = f\"https://sheets.googleapis.com/v4/spreadsheets/{SHEET_ID}/values/Sheet1!A1:append?valueInputOption=RAW\"\n",
    "    data = {\"values\": [[\"Ali\", \"123456\"] , [\"Ahmed\" , \"456790\"] , [\"Dua\", \"432567\"]]}\n",
    "    res = requests.post(url, headers=headers, json=data)\n",
    "    print(\"POST:\\n\", res.json())\n",
    "\n",
    "# ---- PUT (Update) ----\n",
    "def update_data():\n",
    "    url = f\"https://sheets.googleapis.com/v4/spreadsheets/{SHEET_ID}/values/Sheet1!A2?valueInputOption=RAW\"\n",
    "    data = {\"values\": [[\"Updated Data\", \"99090099\"]]}\n",
    "    res = requests.put(url, headers=headers, json=data)\n",
    "    print(\"PUT:\\n\", res.json())\n",
    "\n",
    "# ---- DELETE Specific Cell (Clear) ----\n",
    "def delete_specific_cell():\n",
    "    cell_range = \"Sheet1!A2\"  \n",
    "    url = f\"https://sheets.googleapis.com/v4/spreadsheets/{SHEET_ID}/values/{cell_range}:clear\"\n",
    "    res = requests.post(url, headers=headers)\n",
    "    print(\"CLEAR CELL:\\n\", res.json())\n",
    "\n",
    "get_data()\n",
    "post_data()\n",
    "update_data()\n",
    "delete_specific_cell()  \n"
   ]
  },
  {
   "cell_type": "markdown",
   "id": "b0c55b37-fb11-4d6a-811b-5933dbddef61",
   "metadata": {},
   "source": [
    "# Brief Explanation of CRUD Operations\n",
    "# 1. GET Operation\n",
    "I fetched data from the Google Sheet using the GET method.\n",
    "It shows all values from cells A1 to Z100 in \"Sheet1\".\n",
    "# 2. POST Operation\n",
    "I added (appended) new rows to the sheet using the POST method.\n",
    "Names like \"Ali\", \"Ahmed\", and \"Dua\" were added to the bottom of the sheet.\n",
    "# 3. PUT Operation\n",
    "I updated a specific row (Row 2) with new values using the PUT method.\n",
    "The old data in Row 2 was replaced with \"Updated Data\" and \"99090099\".\n",
    "# 4. DELETE Operation\n",
    "I cleared the contents of a specific cell (A2) using the clear endpoint.\n",
    "Only the content of that cell was removed, without deleting the whole row."
   ]
  },
  {
   "cell_type": "code",
   "execution_count": null,
   "id": "1f3ef617-36f9-4254-b331-ec155cac483a",
   "metadata": {},
   "outputs": [],
   "source": []
  }
 ],
 "metadata": {
  "kernelspec": {
   "display_name": "Python 3 (ipykernel)",
   "language": "python",
   "name": "python3"
  },
  "language_info": {
   "codemirror_mode": {
    "name": "ipython",
    "version": 3
   },
   "file_extension": ".py",
   "mimetype": "text/x-python",
   "name": "python",
   "nbconvert_exporter": "python",
   "pygments_lexer": "ipython3",
   "version": "3.13.5"
  }
 },
 "nbformat": 4,
 "nbformat_minor": 5
}
